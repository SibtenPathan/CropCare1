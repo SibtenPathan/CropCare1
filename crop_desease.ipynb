{
 "cells": [
  {
   "cell_type": "code",
   "execution_count": 6,
   "id": "a2603ad2",
   "metadata": {},
   "outputs": [
    {
     "name": "stdout",
     "output_type": "stream",
     "text": [
      "N              0\n",
      "P              0\n",
      "K              0\n",
      "temperature    0\n",
      "humidity       0\n",
      "ph             0\n",
      "rainfall       0\n",
      "label          0\n",
      "dtype: int64\n"
     ]
    }
   ],
   "source": [
    "import pandas as pd\n",
    "from sklearn.preprocessing import StandardScaler, LabelEncoder\n",
    "\n",
    "# Load the dataset\n",
    "data = pd.read_csv('crop_recommendation.csv')\n",
    "\n",
    "# Check for missing values\n",
    "print(data.isnull().sum())\n",
    "\n",
    "# Handle missing values if necessary\n",
    "# data.fillna(method='ffill', inplace=True)  # Example for filling missing values\n",
    "\n",
    "# Scale the features\n",
    "scaler = StandardScaler()\n",
    "features = data[['N', 'P', 'K', 'temperature', 'humidity', 'ph', 'rainfall']]\n",
    "scaled_features = scaler.fit_transform(features)\n",
    "\n",
    "# Encode the target labels\n",
    "le = LabelEncoder()\n",
    "labels = le.fit_transform(data['label'])\n"
   ]
  },
  {
   "cell_type": "code",
   "execution_count": 7,
   "id": "2bb83f79",
   "metadata": {},
   "outputs": [],
   "source": [
    "from sklearn.model_selection import train_test_split\n",
    "\n",
    "# Split the dataset into training and testing sets\n",
    "X_train, X_test, y_train, y_test = train_test_split(scaled_features, labels, test_size=0.2, random_state=42)\n"
   ]
  },
  {
   "cell_type": "code",
   "execution_count": 8,
   "id": "e1d797c1",
   "metadata": {},
   "outputs": [
    {
     "name": "stdout",
     "output_type": "stream",
     "text": [
      "Accuracy: 95.68%\n",
      "              precision    recall  f1-score   support\n",
      "\n",
      "       apple       1.00      1.00      1.00        23\n",
      "      banana       1.00      1.00      1.00        21\n",
      "   blackgram       0.95      0.95      0.95        20\n",
      "    chickpea       1.00      1.00      1.00        26\n",
      "     coconut       1.00      1.00      1.00        27\n",
      "      coffee       0.94      1.00      0.97        17\n",
      "      cotton       0.89      1.00      0.94        17\n",
      "      grapes       1.00      1.00      1.00        14\n",
      "        jute       0.81      0.96      0.88        23\n",
      " kidneybeans       0.91      1.00      0.95        20\n",
      "      lentil       0.69      1.00      0.81        11\n",
      "       maize       1.00      0.90      0.95        21\n",
      "       mango       0.90      1.00      0.95        19\n",
      "   mothbeans       1.00      0.83      0.91        24\n",
      "    mungbean       1.00      1.00      1.00        19\n",
      "   muskmelon       1.00      1.00      1.00        17\n",
      "      orange       1.00      1.00      1.00        14\n",
      "      papaya       1.00      0.96      0.98        23\n",
      "  pigeonpeas       1.00      0.78      0.88        23\n",
      " pomegranate       1.00      1.00      1.00        23\n",
      "        rice       0.93      0.74      0.82        19\n",
      "  watermelon       1.00      1.00      1.00        19\n",
      "\n",
      "    accuracy                           0.96       440\n",
      "   macro avg       0.96      0.96      0.95       440\n",
      "weighted avg       0.96      0.96      0.96       440\n",
      "\n"
     ]
    }
   ],
   "source": [
    "from sklearn.neighbors import KNeighborsClassifier\n",
    "from sklearn.metrics import classification_report, accuracy_score\n",
    "\n",
    "# Initialize the KNN model\n",
    "knn = KNeighborsClassifier(n_neighbors=5)  # You can tune 'n_neighbors' later\n",
    "\n",
    "# Train the model\n",
    "knn.fit(X_train, y_train)\n",
    "\n",
    "# Make predictions\n",
    "y_pred = knn.predict(X_test)\n",
    "\n",
    "# Evaluate the model\n",
    "accuracy = accuracy_score(y_test, y_pred)\n",
    "print(f\"Accuracy: {accuracy * 100:.2f}%\")\n",
    "print(classification_report(y_test, y_pred, target_names=le.classes_))\n"
   ]
  },
  {
   "cell_type": "code",
   "execution_count": 9,
   "id": "22a26054",
   "metadata": {
    "scrolled": true
   },
   "outputs": [
    {
     "name": "stdout",
     "output_type": "stream",
     "text": [
      "Best Parameters: {'n_neighbors': 4, 'weights': 'distance'}\n",
      "Optimized Accuracy: 97.05%\n",
      "              precision    recall  f1-score   support\n",
      "\n",
      "       apple       1.00      1.00      1.00        23\n",
      "      banana       1.00      1.00      1.00        21\n",
      "   blackgram       1.00      0.95      0.97        20\n",
      "    chickpea       1.00      1.00      1.00        26\n",
      "     coconut       1.00      1.00      1.00        27\n",
      "      coffee       0.94      1.00      0.97        17\n",
      "      cotton       0.94      1.00      0.97        17\n",
      "      grapes       1.00      1.00      1.00        14\n",
      "        jute       0.85      0.96      0.90        23\n",
      " kidneybeans       0.91      1.00      0.95        20\n",
      "      lentil       0.73      1.00      0.85        11\n",
      "       maize       1.00      0.95      0.98        21\n",
      "       mango       0.95      1.00      0.97        19\n",
      "   mothbeans       1.00      0.88      0.93        24\n",
      "    mungbean       1.00      1.00      1.00        19\n",
      "   muskmelon       1.00      1.00      1.00        17\n",
      "      orange       1.00      1.00      1.00        14\n",
      "      papaya       1.00      1.00      1.00        23\n",
      "  pigeonpeas       1.00      0.87      0.93        23\n",
      " pomegranate       1.00      1.00      1.00        23\n",
      "        rice       1.00      0.79      0.88        19\n",
      "  watermelon       1.00      1.00      1.00        19\n",
      "\n",
      "    accuracy                           0.97       440\n",
      "   macro avg       0.97      0.97      0.97       440\n",
      "weighted avg       0.97      0.97      0.97       440\n",
      "\n"
     ]
    }
   ],
   "source": [
    "from sklearn.model_selection import GridSearchCV\n",
    "\n",
    "# Define the parameter grid\n",
    "param_grid = {\n",
    "    'n_neighbors': list(range(3, 21)),\n",
    "    'weights': ['uniform', 'distance']\n",
    "}\n",
    "\n",
    "# Grid search for the best parameters\n",
    "grid_search = GridSearchCV(KNeighborsClassifier(), param_grid, cv=5, scoring='accuracy')\n",
    "grid_search.fit(X_train, y_train)\n",
    "\n",
    "# Best parameters\n",
    "print(f\"Best Parameters: {grid_search.best_params_}\")\n",
    "\n",
    "# Train with the best parameters\n",
    "knn_best = grid_search.best_estimator_\n",
    "y_pred_best = knn_best.predict(X_test)\n",
    "\n",
    "# Evaluate the tuned model\n",
    "accuracy_best = accuracy_score(y_test, y_pred_best)\n",
    "print(f\"Optimized Accuracy: {accuracy_best * 100:.2f}%\")\n",
    "print(classification_report(y_test, y_pred_best, target_names=le.classes_))\n"
   ]
  },
  {
   "cell_type": "code",
   "execution_count": 10,
   "id": "5e493bb2",
   "metadata": {},
   "outputs": [
    {
     "data": {
      "text/plain": [
       "['knn_crop_recommendation_model.pkl']"
      ]
     },
     "execution_count": 10,
     "metadata": {},
     "output_type": "execute_result"
    }
   ],
   "source": [
    "import joblib\n",
    "\n",
    "# Save the model\n",
    "joblib.dump(knn_best, 'knn_crop_recommendation_model.pkl')\n"
   ]
  },
  {
   "cell_type": "code",
   "execution_count": 11,
   "id": "63d6437c",
   "metadata": {},
   "outputs": [
    {
     "name": "stdout",
     "output_type": "stream",
     "text": [
      "Predicted Crop: maize\n"
     ]
    }
   ],
   "source": [
    "import joblib\n",
    "import numpy as np\n",
    "\n",
    "# Load the trained model\n",
    "model = joblib.load('knn_crop_recommendation_model.pkl')\n",
    "\n",
    "# Define a sample test case (input features)\n",
    "# Example values: N=90, P=42, K=43, temperature=20.5°C, humidity=80%, ph=6.5, rainfall=200mm\n",
    "sample_test_case = np.array([[90, 42, 43, 20.5, 80, 6.5, 200]])\n",
    "# here un above array user can enter the input requirement...\n",
    "\n",
    "# Scale the features using the same scaler used during training\n",
    "scaler = StandardScaler()\n",
    "sample_test_case_scaled = scaler.fit_transform(sample_test_case)\n",
    "\n",
    "# Predict the crop using the loaded model\n",
    "predicted_crop_index = model.predict(sample_test_case_scaled)\n",
    "predicted_crop = le.inverse_transform(predicted_crop_index)\n",
    "\n",
    "# Output the result\n",
    "print(f\"Predicted Crop: {predicted_crop[0]}\")\n"
   ]
  },
  {
   "cell_type": "code",
   "execution_count": null,
   "id": "96dcd025",
   "metadata": {},
   "outputs": [],
   "source": []
  }
 ],
 "metadata": {
  "kernelspec": {
   "display_name": "Python 3 (ipykernel)",
   "language": "python",
   "name": "python3"
  },
  "language_info": {
   "codemirror_mode": {
    "name": "ipython",
    "version": 3
   },
   "file_extension": ".py",
   "mimetype": "text/x-python",
   "name": "python",
   "nbconvert_exporter": "python",
   "pygments_lexer": "ipython3",
   "version": "3.11.5"
  }
 },
 "nbformat": 4,
 "nbformat_minor": 5
}
